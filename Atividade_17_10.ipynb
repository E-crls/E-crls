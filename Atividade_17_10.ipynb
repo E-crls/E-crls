{
  "nbformat": 4,
  "nbformat_minor": 0,
  "metadata": {
    "colab": {
      "provenance": [],
      "collapsed_sections": [],
      "authorship_tag": "ABX9TyNAaR5kTF4L1sSXTyt+7zWs",
      "include_colab_link": true
    },
    "kernelspec": {
      "name": "python3",
      "display_name": "Python 3"
    },
    "language_info": {
      "name": "python"
    }
  },
  "cells": [
    {
      "cell_type": "markdown",
      "metadata": {
        "id": "view-in-github",
        "colab_type": "text"
      },
      "source": [
        "<a href=\"https://colab.research.google.com/github/E-crls/E-crls/blob/main/Atividade_17_10.ipynb\" target=\"_parent\"><img src=\"https://colab.research.google.com/assets/colab-badge.svg\" alt=\"Open In Colab\"/></a>"
      ]
    },
    {
      "cell_type": "markdown",
      "source": [
        "##Exemplo de sala de aula"
      ],
      "metadata": {
        "id": "FPv34kgvWbBK"
      }
    },
    {
      "cell_type": "code",
      "source": [
        "class ContaCorrente:\n",
        "  def __init__(self, numero):\n",
        "    self.numero = numero\n",
        "    self.saldo = 0\n",
        "  def creditar(self, valor):\n",
        "    self.saldo = self.saldo + valor\n",
        "  def debitar(self, valor):\n",
        "    self.saldo = self.saldo - valor\n",
        "class Poupanca(ContaCorrente):\n",
        "  def __init__(self, numero,taxa):\n",
        "    ContaCorrente.__init__(self, numero)\n",
        "    self.taxaJuros = taxa\n",
        "  def renderJuros(self):\n",
        "    self.saldo = self.saldo + self.taxaJuros*self.saldo/100\n",
        "  \n",
        "p = Poupanca(\"1234\", 10)\n",
        "print(p.saldo)\n",
        "\n",
        "print(p.taxaJuros)\n",
        "\n",
        "p.creditar(1500)\n",
        "p.debitar(300)\n",
        "print(p.saldo)\n",
        "p.renderJuros()\n",
        "print(p.saldo)"
      ],
      "metadata": {
        "colab": {
          "base_uri": "https://localhost:8080/"
        },
        "id": "flr2tNVPzpQt",
        "outputId": "d065eb48-4e63-4734-f135-4f2b4586ff6e"
      },
      "execution_count": null,
      "outputs": [
        {
          "output_type": "stream",
          "name": "stdout",
          "text": [
            "0\n",
            "10\n",
            "1200\n",
            "1320.0\n"
          ]
        }
      ]
    },
    {
      "cell_type": "markdown",
      "source": [
        "#Questão 1"
      ],
      "metadata": {
        "id": "fH1io2_aWHSr"
      }
    },
    {
      "cell_type": "code",
      "source": [
        "class Retangulo:\n",
        "  ladoA = None\n",
        "  ladoB = None\n",
        "\n",
        "  def mudar_valor(self, a, b):\n",
        "    self.ladoA = a\n",
        "    self.ladoB = b\n",
        "  def calcular_area(self):\n",
        "    print (\"Area: {}\".format(self.ladoA * self.ladoB))\n",
        "  def calcular_perimetro(self):\n",
        "    print (\"Perimetro: {}\".format(self.ladoA + self.ladoB))\n",
        "\n",
        "Rei_do_Gado = Retangulo()\n",
        "\n",
        "a = float(input(\"Digite o Comprimento do terreno: \"))\n",
        "b = float(input(\"Digite a largura do terreno: \"))\n",
        "\n",
        "Rei_do_Gado.ladoA = a\n",
        "Rei_do_Gado.ladoB = b\n",
        "\n",
        "Rei_do_Gado.calcular_area()\n",
        "Rei_do_Gado.calcular_perimetro()"
      ],
      "metadata": {
        "colab": {
          "base_uri": "https://localhost:8080/"
        },
        "id": "bduQ-TXv8O8c",
        "outputId": "ca58ab4b-2304-46d4-e0af-fae585a735cc"
      },
      "execution_count": null,
      "outputs": [
        {
          "output_type": "stream",
          "name": "stdout",
          "text": [
            "Digite o Comprimento do terreno: 5\n",
            "Digite a largura do terreno: 5\n",
            "Area: 25.0\n",
            "Perimetro: 10.0\n"
          ]
        }
      ]
    },
    {
      "cell_type": "markdown",
      "source": [
        "#Questão 2"
      ],
      "metadata": {
        "id": "80tbew79WFMq"
      }
    },
    {
      "cell_type": "code",
      "source": [
        "class Carro:\n",
        "  nivel_combustivel = 0\n",
        "  consumo = None\n",
        "  def __init__(self, consumo):\n",
        "    self.consumo = consumo\n",
        "    \n",
        "  def andar(self, distancia):\n",
        "    self.nivel_combustivel -= distancia/self.consumo\n",
        "  def obterGasolina(self):\n",
        "    print(self.nivel_combustivel)\n",
        "  def adicionarGasolina(self, ad_gas):\n",
        "    self.nivel_combustivel += ad_gas\n",
        "\n",
        "meuAudi = Carro(15)\n",
        "meuAudi.adicionarGasolina(20)\n",
        "meuAudi.andar(100)\n",
        "meuAudi.obterGasolina()"
      ],
      "metadata": {
        "colab": {
          "base_uri": "https://localhost:8080/"
        },
        "id": "F9fNtITB_eoM",
        "outputId": "ebe0227a-7b36-4c5a-c120-75234b05fe6c"
      },
      "execution_count": null,
      "outputs": [
        {
          "output_type": "stream",
          "name": "stdout",
          "text": [
            "13.333333333333332\n"
          ]
        }
      ]
    },
    {
      "cell_type": "markdown",
      "source": [
        "#Questão 3"
      ],
      "metadata": {
        "id": "RY-bYt63WCWB"
      }
    },
    {
      "cell_type": "code",
      "source": [
        "class Funcionario:\n",
        "  _nome = \"\"\n",
        "  _salario = 0.0\n",
        "\n",
        "  def __init__(self, nome, salario):\n",
        "    self._nome = nome\n",
        "    self._salario = salario\n",
        "  \n",
        "  def mostrar_nome(self):\n",
        "    print(self._nome)\n",
        "  def mostrar_salario(self):\n",
        "    print(\"R$\",self._salario)\n",
        "  def aumentar_salario(self, aumento_percentual):\n",
        "    self._salario *= (aumento_percentual/10)+1\n",
        "    \n",
        "elon = Funcionario(\"Marcos\", 100)\n",
        "elon.mostrar_nome()\n",
        "elon.mostrar_salario()\n",
        "elon.aumentar_salario(5)\n",
        "elon.mostrar_salario()"
      ],
      "metadata": {
        "id": "8JCLCpD-DPn7",
        "colab": {
          "base_uri": "https://localhost:8080/"
        },
        "outputId": "e683f2f4-f99d-4b67-d0db-a1541254d592"
      },
      "execution_count": 10,
      "outputs": [
        {
          "output_type": "stream",
          "name": "stdout",
          "text": [
            "Marcos\n",
            "R$ 100\n",
            "R$ 150.0\n"
          ]
        }
      ]
    },
    {
      "cell_type": "code",
      "source": [],
      "metadata": {
        "id": "0rpOEST-DVC8"
      },
      "execution_count": null,
      "outputs": []
    }
  ]
}